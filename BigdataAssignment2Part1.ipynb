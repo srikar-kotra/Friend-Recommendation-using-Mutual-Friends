{
 "cells": [
  {
   "cell_type": "code",
   "execution_count": 0,
   "metadata": {
    "application/vnd.databricks.v1+cell": {
     "cellMetadata": {
      "byteLimit": 2048000,
      "rowLimit": 10000
     },
     "inputWidgets": {},
     "nuid": "4d11566c-1458-4377-a150-c8bdc7810884",
     "showTitle": false,
     "title": ""
    }
   },
   "outputs": [],
   "source": [
    "import math,random\n",
    "from pyspark.sql.functions import *\n",
    "raw_data = sc.textFile(\"dbfs:/FileStore/shared_uploads/sxr230004@utdallas.edu/soc_LiveJournal1Adj-2.txt\")\n",
    "data = raw_data.map(lambda x: x.split(\"\\t\"))"
   ]
  },
  {
   "cell_type": "code",
   "execution_count": 0,
   "metadata": {
    "application/vnd.databricks.v1+cell": {
     "cellMetadata": {
      "byteLimit": 2048000,
      "rowLimit": 10000
     },
     "inputWidgets": {},
     "nuid": "d01955b5-f956-445c-a15a-da708ab7a469",
     "showTitle": false,
     "title": ""
    }
   },
   "outputs": [
    {
     "output_type": "stream",
     "name": "stdout",
     "output_type": "stream",
     "text": [
      "Out[13]: [['0',\n  '1,2,3,4,5,6,7,8,9,10,11,12,13,14,15,16,17,18,19,20,21,22,23,24,25,26,27,28,29,30,31,32,33,34,35,36,37,38,39,40,41,42,43,44,45,46,47,48,49,50,51,52,53,54,55,56,57,58,59,60,61,62,63,64,65,66,67,68,69,70,71,72,73,74,75,76,77,78,79,80,81,82,83,84,85,86,87,88,89,90,91,92,93,94'],\n ['1',\n  '0,5,20,135,2409,8715,8932,10623,12347,12846,13840,13845,14005,20075,21556,22939,23520,28193,29724,29791,29826,30691,31232,31435,32317,32489,34394,35589,35605,35606,35613,35633,35648,35678,38737,43447,44846,44887,49226,49985,623,629,4999,6156,13912,14248,15190,17636,19217,20074,27536,29481,29726,29767,30257,33060,34250,34280,34392,34406,34418,34420,34439,34450,34651,45054,49592'],\n ['2',\n  '0,117,135,1220,2755,12453,24539,24714,41456,45046,49927,6893,13795,16659,32828,41878'],\n ['3', '0,12,41,55,1532,12636,13185,27552,38737'],\n ['4',\n  '0,8,14,15,18,27,72,80,15326,19068,19079,24596,42697,46126,74,77,33269,38792,38822'],\n ['5',\n  '0,1,20,2022,22939,23527,30257,32503,35633,41457,43262,44846,49574,31140,32828'],\n ['6',\n  '0,21,98,2203,3238,5040,8795,9843,9847,15294,17874,18286,18311,18320,20553,35699,35776,38736,38750,38800,543,575,11879,12682,14943,15283,18332,18560,18625,25247,33080,34412,35785,35822,42231'],\n ['7', '0,31993,40218,40433,1357,21843'],\n ['8', '0,4,38,46,72,85,24777,83,33380'],\n ['9', '0,6085,18972,19269']]"
     ]
    }
   ],
   "source": [
    "data.take(10)"
   ]
  },
  {
   "cell_type": "code",
   "execution_count": 0,
   "metadata": {
    "application/vnd.databricks.v1+cell": {
     "cellMetadata": {
      "byteLimit": 2048000,
      "rowLimit": 10000
     },
     "inputWidgets": {},
     "nuid": "57405d64-132c-4bcb-b24c-2b264c994afd",
     "showTitle": false,
     "title": ""
    }
   },
   "outputs": [
    {
     "output_type": "stream",
     "name": "stdout",
     "output_type": "stream",
     "text": [
      "Out[14]: PythonRDD[70] at RDD at PythonRDD.scala:58"
     ]
    }
   ],
   "source": [
    "#collecting userids\n",
    "userids = data.keys().collect()\n",
    "#Flat mapping each userid(a[0]) to its friend list(a[1]) and reverse mapping to create key value pair with friend as key and userid as value\n",
    "friendskey = data.map(lambda a : (a[0],list(a[1].split(',')))).flatMap(lambda a:[(a[0],i)for i in a[1]]).map( lambda a: (a[1],a[0])) \n",
    "friendskey.take(3)\n",
    "friendskey.persist()"
   ]
  },
  {
   "cell_type": "code",
   "execution_count": 0,
   "metadata": {
    "application/vnd.databricks.v1+cell": {
     "cellMetadata": {
      "byteLimit": 2048000,
      "rowLimit": 10000
     },
     "inputWidgets": {},
     "nuid": "9a230f54-5c7d-4bad-8cc6-d624677e6b2d",
     "showTitle": false,
     "title": ""
    }
   },
   "outputs": [
    {
     "output_type": "stream",
     "name": "stdout",
     "output_type": "stream",
     "text": [
      "Out[15]: PythonRDD[76] at RDD at PythonRDD.scala:58"
     ]
    }
   ],
   "source": [
    "#joining the friends key rdd(friend,user) with original data(user,list of friends) to known friend list between 2 user ids\n",
    "rd1.persist()\n",
    "allfriends = rd1.map(lambda x:(x[1][0],(x[0],x[1][1]))).map(lambda x:(x[0],x[1][1])).reduceByKey(lambda x,y: (x +\",\"+ y))\n",
    "allfriends.take(3)\n",
    "allfriends.persist()\n",
    " "
   ]
  },
  {
   "cell_type": "code",
   "execution_count": 0,
   "metadata": {
    "application/vnd.databricks.v1+cell": {
     "cellMetadata": {
      "byteLimit": 2048000,
      "rowLimit": 10000
     },
     "inputWidgets": {},
     "nuid": "306b3c1a-22b6-44a6-b415-a31d892b3988",
     "showTitle": false,
     "title": ""
    }
   },
   "outputs": [],
   "source": [
    "#creating rdd that contains each (userid ,  its friends and friends of friends)\n",
    "rd1  =  friendskey.join(data)"
   ]
  },
  {
   "cell_type": "code",
   "execution_count": 0,
   "metadata": {
    "application/vnd.databricks.v1+cell": {
     "cellMetadata": {
      "byteLimit": 2048000,
      "rowLimit": 10000
     },
     "inputWidgets": {},
     "nuid": "f4b61557-8e6f-43a2-9a9c-c31061cfabba",
     "showTitle": false,
     "title": ""
    }
   },
   "outputs": [
    {
     "output_type": "stream",
     "name": "stdout",
     "output_type": "stream",
     "text": [
      "Out[17]: PythonRDD[91] at RDD at PythonRDD.scala:58"
     ]
    }
   ],
   "source": [
    "rd1.take(5)\n",
    "rd1.persist()\n",
    "#joining the friends key rdd(friend,user) with original data(user,list of friends) to known friend list between 2 user ids\n",
    "allfriends = rd1.map(lambda x:(x[1][0],(x[0],x[1][1]))).map(lambda x:(x[0],x[1][1])).reduceByKey(lambda x,y: (x +\",\"+ y))\n",
    "allfriends.take(3)\n",
    "allfriends.persist()\n"
   ]
  },
  {
   "cell_type": "code",
   "execution_count": 0,
   "metadata": {
    "application/vnd.databricks.v1+cell": {
     "cellMetadata": {
      "byteLimit": 2048000,
      "rowLimit": 10000
     },
     "inputWidgets": {},
     "nuid": "7b494350-751f-44ce-b569-1052b50b03e6",
     "showTitle": false,
     "title": ""
    }
   },
   "outputs": [],
   "source": [
    "#counting how many mutal friends between each pair userids\n",
    "count_mutuals = allfriends.flatMap(lambda x:((x[0],i) for i in x[1].split(','))).subtract(friendskey).map(lambda x:(x[0],(x[1],1))).filter(lambda x: x[1][0]!=x[0]).map(lambda x:((x[0]+\"_\"+x[1][0]),x[1][1])).reduceByKey(lambda x,y:x+y)"
   ]
  },
  {
   "cell_type": "code",
   "execution_count": 0,
   "metadata": {
    "application/vnd.databricks.v1+cell": {
     "cellMetadata": {
      "byteLimit": 2048000,
      "rowLimit": 10000
     },
     "inputWidgets": {},
     "nuid": "cc79dd97-588d-4f7c-b8bb-5e99eb25cce1",
     "showTitle": false,
     "title": ""
    }
   },
   "outputs": [
    {
     "output_type": "stream",
     "name": "stdout",
     "output_type": "stream",
     "text": [
      "Out[19]: PythonRDD[116] at RDD at PythonRDD.scala:58"
     ]
    }
   ],
   "source": [
    "count_mutuals.sortByKey().sortBy(lambda v: -v[1]).collect()\n",
    "count_mutuals.persist()"
   ]
  },
  {
   "cell_type": "code",
   "execution_count": 0,
   "metadata": {
    "application/vnd.databricks.v1+cell": {
     "cellMetadata": {
      "byteLimit": 2048000,
      "rowLimit": 10000
     },
     "inputWidgets": {},
     "nuid": "22882c69-fae4-4509-bef4-f96a7129cdac",
     "showTitle": false,
     "title": ""
    }
   },
   "outputs": [
    {
     "output_type": "stream",
     "name": "stdout",
     "output_type": "stream",
     "text": [
      "['3959', '41411', '14409', '22818', '27067', '43358', '28373', '33684', '15246', '24341']\n"
     ]
    }
   ],
   "source": [
    "def ten_recommandations(v):\n",
    "    return v.split(\",\")[:10]\n",
    "recommendation_system = count_mutuals.map(lambda x: (x[0][0:x[0].index(\"_\")],(x[0][x[0].index(\"_\")+1:len(x[0])], x[1]))).sortBy(lambda x: -x[1][1]).map(lambda x:(x[0],(x[1][0]))).reduceByKey(lambda x,y:((x+\",\"+y))).map(lambda x:(x[0],ten_recommandations(x[1])))\n",
    "random_users = random.sample(userids,10)\n",
    "print(random_users)\n",
    "rand_users_friends = recommendation_system.filter(lambda x: x[0] in random_users).sortByKey().collect()"
   ]
  },
  {
   "cell_type": "code",
   "execution_count": 0,
   "metadata": {
    "application/vnd.databricks.v1+cell": {
     "cellMetadata": {
      "byteLimit": 2048000,
      "rowLimit": 10000
     },
     "inputWidgets": {},
     "nuid": "5bc014e7-a748-49e2-9f61-423d54227dce",
     "showTitle": false,
     "title": ""
    }
   },
   "outputs": [
    {
     "output_type": "stream",
     "name": "stdout",
     "output_type": "stream",
     "text": [
      "15246\t26114,15256,43014,31280,17478,31304,31236,1966,31225,31254\n24341\t24350,24626,40439,48364,24335,24336,24355,14730,37343,24347\n27067\t27119,27101,49948,27077,27060,10380,27087,27096,32178,9569\n28373\t32096,19350,6452,9154,11132,33274,40490,39751,46428,31437\n33684\t30486,30466,30448,21240,30386,21693,30370,33702,30470,30339\n3959\t3890,3977,3907,4131,3884,3975,3916,3924,4015,4134\n41411\t41406,41405,41458,41413,6451,41433,41414,38128,41409,22927\n43358\t43181,43136,43338,17070,43190,43650,8501,243,43171,5874\n"
     ]
    }
   ],
   "source": [
    "for x in rand_users_friends:\n",
    "    # Print the UserID followed by a tab character\n",
    "    print(f\"{x[0]}\\t\", end=\"\")\n",
    "    if x[1]:\n",
    "        # Print the list of friends' User IDs, comma-separated\n",
    "        friend_ids = \",\".join(map(str, x[1][0:-1]))\n",
    "        print(f\"{friend_ids},{x[1][-1]}\")"
   ]
  },
  {
   "cell_type": "code",
   "execution_count": 0,
   "metadata": {
    "application/vnd.databricks.v1+cell": {
     "cellMetadata": {},
     "inputWidgets": {},
     "nuid": "6ef1a6b3-ab15-46ed-93ef-eb385616cb62",
     "showTitle": false,
     "title": ""
    }
   },
   "outputs": [],
   "source": [
    " "
   ]
  }
 ],
 "metadata": {
  "application/vnd.databricks.v1+notebook": {
   "dashboards": [],
   "language": "python",
   "notebookMetadata": {
    "pythonIndentUnit": 4
   },
   "notebookName": "latest (3)",
   "widgets": {}
  }
 },
 "nbformat": 4,
 "nbformat_minor": 0
}
